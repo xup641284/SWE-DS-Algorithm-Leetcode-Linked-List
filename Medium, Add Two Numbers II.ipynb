{
 "cells": [
  {
   "cell_type": "code",
   "execution_count": 8,
   "metadata": {},
   "outputs": [
    {
     "name": "stdout",
     "output_type": "stream",
     "text": [
      "7 -> 8 -> 0 -> 7 -> "
     ]
    }
   ],
   "source": [
    "class ListNode:\n",
    "    def __init__(self, val=0, next=None):\n",
    "        self.val = val\n",
    "        self.next = next\n",
    "\n",
    "def add_two_numbers(l1, l2):\n",
    "    def reverse_linked_list(head):\n",
    "        prev, curr = None, head\n",
    "        while curr:\n",
    "            temp = curr.next\n",
    "            curr.next = prev\n",
    "            prev = curr\n",
    "            curr = temp\n",
    "        return prev\n",
    "\n",
    "    l1 = reverse_linked_list(l1)\n",
    "    l2 = reverse_linked_list(l2)\n",
    "\n",
    "    dummy = ListNode(0)\n",
    "    carry = 0\n",
    "    current = dummy\n",
    "\n",
    "    while l1 or l2 or carry:\n",
    "        val1 = l1.val if l1 else 0\n",
    "        val2 = l2.val if l2 else 0\n",
    "        total = val1 + val2 + carry\n",
    "        carry = total // 10\n",
    "\n",
    "        current.next = ListNode(total % 10)\n",
    "        current = current.next\n",
    "\n",
    "        if l1:\n",
    "            l1 = l1.next\n",
    "        if l2:\n",
    "            l2 = l2.next\n",
    "            \n",
    "    return reverse_linked_list(dummy.next)\n",
    "\n",
    "# Example usage:\n",
    "l1 = ListNode(7, ListNode(2, ListNode(4, ListNode(3))))\n",
    "l2 = ListNode(5, ListNode(6, ListNode(4)))\n",
    "result = add_two_numbers(l1, l2)\n",
    "\n",
    "# Print the result\n",
    "while result:\n",
    "    print(result.val, end=\" -> \")\n",
    "    result = result.next\n"
   ]
  },
  {
   "cell_type": "code",
   "execution_count": null,
   "metadata": {},
   "outputs": [],
   "source": []
  }
 ],
 "metadata": {
  "kernelspec": {
   "display_name": "Python 3",
   "language": "python",
   "name": "python3"
  },
  "language_info": {
   "codemirror_mode": {
    "name": "ipython",
    "version": 3
   },
   "file_extension": ".py",
   "mimetype": "text/x-python",
   "name": "python",
   "nbconvert_exporter": "python",
   "pygments_lexer": "ipython3",
   "version": "3.7.1"
  }
 },
 "nbformat": 4,
 "nbformat_minor": 2
}
