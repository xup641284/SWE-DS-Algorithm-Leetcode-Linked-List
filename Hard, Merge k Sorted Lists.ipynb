{
 "cells": [
  {
   "cell_type": "code",
   "execution_count": 1,
   "metadata": {},
   "outputs": [
    {
     "name": "stdout",
     "output_type": "stream",
     "text": [
      "1 1 2 3 4 4 5 6 "
     ]
    }
   ],
   "source": [
    "import heapq\n",
    "\n",
    "class ListNode:\n",
    "    def __init__(self, val=0, next=None):\n",
    "        self.val = val\n",
    "        self.next = next\n",
    "\n",
    "def mergeKLists(lists):\n",
    "    heap = []\n",
    "\n",
    "    for l in lists:\n",
    "        while l:\n",
    "            heapq.heappush(heap, l.val)\n",
    "            l = l.next\n",
    "\n",
    "    dummy = ListNode()\n",
    "    current = dummy\n",
    "\n",
    "    while heap:\n",
    "        current.next = ListNode(heapq.heappop(heap))\n",
    "        current = current.next\n",
    "\n",
    "    return dummy.next\n",
    "\n",
    "# Helper function to convert lists to linked lists\n",
    "def create_linked_list(nums):\n",
    "    dummy = ListNode()\n",
    "    current = dummy\n",
    "    for num in nums:\n",
    "        current.next = ListNode(num)\n",
    "        current = current.next\n",
    "    return dummy.next\n",
    "\n",
    "# Create sample linked lists\n",
    "list1 = create_linked_list([1, 4, 5])\n",
    "list2 = create_linked_list([1, 3, 4])\n",
    "list3 = create_linked_list([2, 6])\n",
    "\n",
    "lists = [list1, list2, list3]\n",
    "\n",
    "merged_list = mergeKLists(lists)\n",
    "\n",
    "# Helper function to print the merged linked list\n",
    "def print_linked_list(head):\n",
    "    current = head\n",
    "    while current:\n",
    "        print(current.val, end=' ')\n",
    "        current = current.next\n",
    "\n",
    "print_linked_list(merged_list)  # Output: 1 1 2 3 4 4 5 6\n",
    "\n"
   ]
  },
  {
   "cell_type": "code",
   "execution_count": null,
   "metadata": {},
   "outputs": [],
   "source": []
  }
 ],
 "metadata": {
  "kernelspec": {
   "display_name": "Python 3",
   "language": "python",
   "name": "python3"
  },
  "language_info": {
   "codemirror_mode": {
    "name": "ipython",
    "version": 3
   },
   "file_extension": ".py",
   "mimetype": "text/x-python",
   "name": "python",
   "nbconvert_exporter": "python",
   "pygments_lexer": "ipython3",
   "version": "3.7.1"
  }
 },
 "nbformat": 4,
 "nbformat_minor": 2
}
